{
  "nbformat": 4,
  "nbformat_minor": 0,
  "metadata": {
    "colab": {
      "provenance": []
    },
    "kernelspec": {
      "name": "python3",
      "display_name": "Python 3"
    },
    "language_info": {
      "name": "python"
    }
  },
  "cells": [
    {
      "cell_type": "code",
      "source": [
        "import numpy as np\n",
        "import matplotlib.pyplot as plt\n",
        "import random\n",
        "from sklearn.model_selection import train_test_split\n",
        "\n",
        "random.seed(42)\n",
        "np.random.seed(42)\n",
        "\n"
      ],
      "metadata": {
        "id": "6j7usKDgkbhp"
      },
      "execution_count": 18,
      "outputs": []
    },
    {
      "cell_type": "code",
      "source": [
        "#initialize weights and bias\n",
        "def initialize_parameters(input_size):\n",
        "    W = np.random.randn(input_size, 1)\n",
        "    b = np.random.randn(1)\n",
        "    return W, b\n",
        "\n"
      ],
      "metadata": {
        "id": "9RxNm4BJkgDh"
      },
      "execution_count": 19,
      "outputs": []
    },
    {
      "cell_type": "code",
      "source": [
        "def sigmoid(z):\n",
        "    z = np.clip(z, -500, 500)  # Avoid overflow\n",
        "    return 1 / (1 + np.exp(-z))\n",
        "\n"
      ],
      "metadata": {
        "id": "LAqtdRAwlESV"
      },
      "execution_count": 20,
      "outputs": []
    },
    {
      "cell_type": "code",
      "source": [
        "# Forward propagation\n",
        "def forward_propagation(X, W, b):\n",
        "    Z = np.dot(X, W) + b\n",
        "    A = sigmoid(Z)\n",
        "    return A\n"
      ],
      "metadata": {
        "id": "I5nXyk1mlHmX"
      },
      "execution_count": 21,
      "outputs": []
    },
    {
      "cell_type": "code",
      "source": [
        "\n",
        "# Backward propagation\n",
        "def backward_propagation(X, A, Y):\n",
        "    m = X.shape[0]\n",
        "    dZ = A - Y.reshape(-1,1)\n",
        "    dW = np.dot(X.T, dZ) / m\n",
        "    db = np.sum(dZ) / m\n",
        "    return dW, db\n"
      ],
      "metadata": {
        "id": "2lrlt13GlL-E"
      },
      "execution_count": 22,
      "outputs": []
    },
    {
      "cell_type": "code",
      "source": [
        "\n",
        "# Update parameters\n",
        "def update_parameters(W, b, dW, db, learning_rate):\n",
        "    W -= learning_rate * dW\n",
        "    b -= learning_rate * db\n",
        "    return W, b\n",
        "\n"
      ],
      "metadata": {
        "id": "PqhXW5FSlOs_"
      },
      "execution_count": 23,
      "outputs": []
    },
    {
      "cell_type": "code",
      "source": [
        "# Training the model\n",
        "def train_model(X_train, y_train, learning_rate=0.01, epochs=100):\n",
        "    input_size = X_train.shape[1]\n",
        "    W, b = initialize_parameters(input_size)\n",
        "    losses = []\n",
        "    epsilon = 1e-7  # Small value to avoid log(0)\n",
        "\n",
        "    for epoch in range(epochs):\n",
        "        A = forward_propagation(X_train, W, b)\n",
        "        dW, db = backward_propagation(X_train, A, y_train)\n",
        "        W, b = update_parameters(W, b, dW, db, learning_rate)\n",
        "\n",
        "        # Calculate and store loss\n",
        "        loss = -np.mean(y_train * np.log(A + epsilon) + (1 - y_train) * np.log(1 - A + epsilon))\n",
        "        losses.append(loss)\n",
        "\n",
        "    return W, b, losses\n"
      ],
      "metadata": {
        "id": "TwOTC9zwlQ3l"
      },
      "execution_count": 24,
      "outputs": []
    },
    {
      "cell_type": "code",
      "source": [
        "\n",
        "# Generate dataset for XOR gate\n",
        "sample = 20\n",
        "x1 = np.where(np.array([random.random() for i in range(sample)]) < 0.5, 0, 1)\n",
        "x2 = np.where(np.array([random.random() for i in range(sample)]) < 0.5, 0, 1)\n",
        "y = np.logical_xor(x1, x2).astype(int)\n",
        "\n",
        "# Combine features into a single array\n",
        "X = np.column_stack((x1, x2))\n",
        "\n",
        "# Splitting dataset into train and test sets\n",
        "X_train, X_test, y_train, y_test = train_test_split(X, y, test_size=0.3, random_state=42)\n",
        "\n",
        "# Training the model\n",
        "W, b, losses = train_model(X_train, y_train)\n",
        "\n",
        "# Plotting training loss vs epoch curve\n",
        "plt.plot(losses)\n",
        "plt.title('Training Loss')\n",
        "plt.xlabel('Epochs')\n",
        "plt.ylabel('Loss')\n",
        "plt.show()\n",
        "\n"
      ],
      "metadata": {
        "colab": {
          "base_uri": "https://localhost:8080/",
          "height": 472
        },
        "id": "MQzcN8nylTHK",
        "outputId": "065057a9-91b3-4fd1-d9c8-6e27f37c76c6"
      },
      "execution_count": 25,
      "outputs": [
        {
          "output_type": "display_data",
          "data": {
            "text/plain": [
              "<Figure size 640x480 with 1 Axes>"
            ],
            "image/png": "[encoded data removed]"
          },
          "metadata": {}
        }
      ]
    },
    {
      "cell_type": "code",
      "source": [
        "# Function to predict outputs\n",
        "def predict(X, W, b):\n",
        "    A = forward_propagation(X, W, b)\n",
        "    predictions = (A > 0.5).astype(int)\n",
        "    return predictions.flatten()\n",
        "\n",
        "# Calculate accuracy on test set\n",
        "predictions = predict(X_test, W, b)\n",
        "accuracy = np.mean(predictions == y_test)\n",
        "print(\"Test Accuracy:\", accuracy)"
      ],
      "metadata": {
        "colab": {
          "base_uri": "https://localhost:8080/"
        },
        "id": "G1N4UAvOlYll",
        "outputId": "a7a433db-9aba-459c-c504-489bbf24621d"
      },
      "execution_count": 26,
      "outputs": [
        {
          "output_type": "stream",
          "name": "stdout",
          "text": [
            "Test Accuracy: 0.5\n"
          ]
        }
      ]
    }
  ]
}
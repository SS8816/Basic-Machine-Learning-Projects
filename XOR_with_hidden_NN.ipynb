{
  "nbformat": 4,
  "nbformat_minor": 0,
  "metadata": {
    "colab": {
      "provenance": []
    },
    "kernelspec": {
      "name": "python3",
      "display_name": "Python 3"
    },
    "language_info": {
      "name": "python"
    }
  },
  "cells": [
    {
      "cell_type": "code",
      "execution_count": 2,
      "metadata": {
        "id": "sNqyaBB-lxTd"
      },
      "outputs": [],
      "source": [
        "import numpy as np\n",
        "import matplotlib.pyplot as plt\n",
        "import random\n",
        "from sklearn.model_selection import train_test_split\n",
        "\n",
        "random.seed(42)\n",
        "np.random.seed(42)\n",
        "\n"
      ]
    },
    {
      "cell_type": "code",
      "source": [
        "# Function to initialize weights and bias\n",
        "def initialize_parameters(input_size, hidden_size, output_size):\n",
        "    W1 = np.random.randn(input_size, hidden_size)\n",
        "    b1 = np.random.randn(hidden_size)\n",
        "    W2 = np.random.randn(hidden_size, output_size)\n",
        "    b2 = np.random.randn(output_size)\n",
        "    return W1, b1, W2, b2\n",
        "\n"
      ],
      "metadata": {
        "id": "QaFpdSpVl8Xj"
      },
      "execution_count": 3,
      "outputs": []
    },
    {
      "cell_type": "code",
      "source": [
        "\n",
        "# Sigmoid activation function\n",
        "def sigmoid(z):\n",
        "    z = np.clip(z, -500, 500)  # Avoid overflow\n",
        "    return 1 / (1 + np.exp(-z))\n",
        "\n"
      ],
      "metadata": {
        "id": "99lGwJ9fl-e9"
      },
      "execution_count": 4,
      "outputs": []
    },
    {
      "cell_type": "code",
      "source": [
        "# Forward propagation\n",
        "def forward_propagation(X, W1, b1, W2, b2):\n",
        "    Z1 = np.dot(X, W1) + b1\n",
        "    A1 = sigmoid(Z1)\n",
        "    Z2 = np.dot(A1, W2) + b2\n",
        "    A2 = sigmoid(Z2)\n",
        "    return A1, A2\n",
        "\n"
      ],
      "metadata": {
        "id": "1mr12T5vmAO9"
      },
      "execution_count": 5,
      "outputs": []
    },
    {
      "cell_type": "code",
      "source": [
        "# Backward propagation\n",
        "def backward_propagation(X, Y, A1, A2, W2):\n",
        "    m = X.shape[0]\n",
        "    dZ2 = A2 - Y.reshape(-1,1)\n",
        "    dW2 = np.dot(A1.T, dZ2) / m\n",
        "    db2 = np.sum(dZ2) / m\n",
        "    dA1 = np.dot(dZ2, W2.T)\n",
        "    dZ1 = dA1 * A1 * (1 - A1)\n",
        "    dW1 = np.dot(X.T, dZ1) / m\n",
        "    db1 = np.sum(dZ1) / m\n",
        "    return dW1, db1, dW2, db2\n"
      ],
      "metadata": {
        "id": "ZqY3XmdSmB0T"
      },
      "execution_count": 6,
      "outputs": []
    },
    {
      "cell_type": "code",
      "source": [
        "\n",
        "# Update parameters\n",
        "def update_parameters(W1, b1, W2, b2, dW1, db1, dW2, db2, learning_rate):\n",
        "    W1 -= learning_rate * dW1\n",
        "    b1 -= learning_rate * db1\n",
        "    W2 -= learning_rate * dW2\n",
        "    b2 -= learning_rate * db2\n",
        "    return W1, b1, W2, b2\n"
      ],
      "metadata": {
        "id": "0yBnm3WVmD6i"
      },
      "execution_count": 7,
      "outputs": []
    },
    {
      "cell_type": "code",
      "source": [
        "\n",
        "# Training the model\n",
        "def train_model(X_train, y_train, hidden_size=4, learning_rate=0.01, epochs=10000):\n",
        "    input_size = X_train.shape[1]\n",
        "    output_size = 1\n",
        "    W1, b1, W2, b2 = initialize_parameters(input_size, hidden_size, output_size)\n",
        "    losses = []\n",
        "    epsilon = 1e-7  # Small value to avoid log(0)\n",
        "\n",
        "    for epoch in range(epochs):\n",
        "        A1, A2 = forward_propagation(X_train, W1, b1, W2, b2)\n",
        "        dW1, db1, dW2, db2 = backward_propagation(X_train, y_train, A1, A2, W2)\n",
        "        W1, b1, W2, b2 = update_parameters(W1, b1, W2, b2, dW1, db1, dW2, db2, learning_rate)\n",
        "\n",
        "        # Calculate and store loss\n",
        "        loss = -np.mean(y_train * np.log(A2 + epsilon) + (1 - y_train) * np.log(1 - A2 + epsilon))\n",
        "        losses.append(loss)\n",
        "\n",
        "    return W1, b1, W2, b2, losses\n"
      ],
      "metadata": {
        "id": "2BQGjhpUmFWt"
      },
      "execution_count": 8,
      "outputs": []
    },
    {
      "cell_type": "code",
      "source": [
        "\n",
        "# Generate dataset for XOR gate\n",
        "sample = 20\n",
        "x1 = np.where(np.array([random.random() for i in range(sample)]) < 0.5, 0, 1)\n",
        "x2 = np.where(np.array([random.random() for i in range(sample)]) < 0.5, 0, 1)\n",
        "y = np.logical_xor(x1, x2).astype(int)\n",
        "\n",
        "# Combine features into a single array\n",
        "X = np.column_stack((x1, x2))\n",
        "\n",
        "# Splitting dataset into train and test sets\n",
        "X_train, X_test, y_train, y_test = train_test_split(X, y, test_size=0.3, random_state=42)\n",
        "\n",
        "# Training the model\n",
        "W1, b1, W2, b2, losses = train_model(X_train, y_train)\n",
        "\n",
        "# Plotting training loss vs epoch curve\n",
        "plt.plot(losses)\n",
        "plt.title('Training Loss')\n",
        "plt.xlabel('Epochs')\n",
        "plt.ylabel('Loss')\n",
        "plt.show()\n",
        "\n"
      ],
      "metadata": {
        "colab": {
          "base_uri": "https://localhost:8080/",
          "height": 472
        },
        "id": "P62orKgTmHSx",
        "outputId": "b13d204f-b58f-4ba6-a765-5233917f86b8"
      },
      "execution_count": 9,
      "outputs": [
        {
          "output_type": "display_data",
          "data": {
            "text/plain": [
              "<Figure size 640x480 with 1 Axes>"
            ],
            "image/png": "[encoded data removed]"
          },
          "metadata": {}
        }
      ]
    },
    {
      "cell_type": "code",
      "source": [
        "# Function to predict outputs\n",
        "def predict(X, W1, b1, W2, b2):\n",
        "    _, A2 = forward_propagation(X, W1, b1, W2, b2)\n",
        "    predictions = (A2 > 0.5).astype(int)\n",
        "    return predictions.flatten()\n",
        "\n",
        "\n",
        "predictions = predict(X_test, W1, b1, W2, b2)\n",
        "accuracy = np.mean(predictions == y_test)\n",
        "print(\"Test Accuracy:\", accuracy)"
      ],
      "metadata": {
        "colab": {
          "base_uri": "https://localhost:8080/"
        },
        "id": "fsLpQMKumIoP",
        "outputId": "35275552-4ab2-489e-ff2f-528af2d3888d"
      },
      "execution_count": 11,
      "outputs": [
        {
          "output_type": "stream",
          "name": "stdout",
          "text": [
            "Test Accuracy: 0.8333333333333334\n"
          ]
        }
      ]
    },
    {
      "cell_type": "code",
      "source": [],
      "metadata": {
        "id": "y0Y00TTFmJJA"
      },
      "execution_count": null,
      "outputs": []
    }
  ]
}